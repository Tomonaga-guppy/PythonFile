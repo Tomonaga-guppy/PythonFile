version https://git-lfs.github.com/spec/v1
oid sha256:e80cfca7552e146bcf97f8c3bc52d2f860e8ed159b3e37e67818de761ec7f501
size 79160
