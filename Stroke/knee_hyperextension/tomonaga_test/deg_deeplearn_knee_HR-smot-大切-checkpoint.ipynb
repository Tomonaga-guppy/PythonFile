version https://git-lfs.github.com/spec/v1
oid sha256:421fd2eed15464e03142e536f3eb34e758900a7872d31708e387336b81c4dad0
size 67031
