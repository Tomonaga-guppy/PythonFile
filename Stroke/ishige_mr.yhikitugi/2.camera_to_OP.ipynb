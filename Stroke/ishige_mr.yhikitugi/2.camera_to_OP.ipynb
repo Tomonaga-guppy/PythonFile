{
 "cells": [
  {
   "cell_type": "code",
   "execution_count": 8,
   "metadata": {
    "scrolled": true
   },
   "outputs": [
    {
     "name": "stdout",
     "output_type": "stream",
     "text": [
      "./OpenPoseDemo.exe --video C:/Users/HYPERION/Desktop/ohp_data/症例/sub-36/動画/no-AFO/1-1.avi --write_json C:/Users/HYPERION/Desktop/ohp_data/result2/sub-36/sub-36_no-AFO/1 --number_people_max 1  --num_gpu 1 --scale_number 2 --scale_gap 0.2 --write_video C:/Users/HYPERION/Desktop/ohp_data/video/no-AFO/sub36_no-AFO_1.avi\n",
      "./OpenPoseDemo.exe --video C:/Users/HYPERION/Desktop/ohp_data/症例/sub-36/動画/no-AFO/1-2.avi --write_json C:/Users/HYPERION/Desktop/ohp_data/result2/sub-36/sub-36_no-AFO/2 --number_people_max 1  --num_gpu 1 --scale_number 2 --scale_gap 0.2 --write_video C:/Users/HYPERION/Desktop/ohp_data/video/no-AFO/sub36_no-AFO_2.avi\n",
      "./OpenPoseDemo.exe --video C:/Users/HYPERION/Desktop/ohp_data/症例/sub-36/動画/spring1/3-1.avi --write_json C:/Users/HYPERION/Desktop/ohp_data/result2/sub-36/sub-36_spring1/1 --number_people_max 1  --num_gpu 1 --scale_number 2 --scale_gap 0.2 --write_video C:/Users/HYPERION/Desktop/ohp_data/video/spring1/sub36_spring1_1.avi\n",
      "./OpenPoseDemo.exe --video C:/Users/HYPERION/Desktop/ohp_data/症例/sub-36/動画/spring1/3-2.avi --write_json C:/Users/HYPERION/Desktop/ohp_data/result2/sub-36/sub-36_spring1/2 --number_people_max 1  --num_gpu 1 --scale_number 2 --scale_gap 0.2 --write_video C:/Users/HYPERION/Desktop/ohp_data/video/spring1/sub36_spring1_2.avi\n",
      "./OpenPoseDemo.exe --video C:/Users/HYPERION/Desktop/ohp_data/症例/sub-36/動画/spring2/5-1.avi --write_json C:/Users/HYPERION/Desktop/ohp_data/result2/sub-36/sub-36_spring2/1 --number_people_max 1  --num_gpu 1 --scale_number 2 --scale_gap 0.2 --write_video C:/Users/HYPERION/Desktop/ohp_data/video/spring2/sub36_spring2_1.avi\n",
      "./OpenPoseDemo.exe --video C:/Users/HYPERION/Desktop/ohp_data/症例/sub-36/動画/spring2/5-2.avi --write_json C:/Users/HYPERION/Desktop/ohp_data/result2/sub-36/sub-36_spring2/2 --number_people_max 1  --num_gpu 1 --scale_number 2 --scale_gap 0.2 --write_video C:/Users/HYPERION/Desktop/ohp_data/video/spring2/sub36_spring2_2.avi\n",
      "./OpenPoseDemo.exe --video C:/Users/HYPERION/Desktop/ohp_data/症例/sub-36/動画/spring3/4-1.avi --write_json C:/Users/HYPERION/Desktop/ohp_data/result2/sub-36/sub-36_spring3/1 --number_people_max 1  --num_gpu 1 --scale_number 2 --scale_gap 0.2 --write_video C:/Users/HYPERION/Desktop/ohp_data/video/spring3/sub36_spring3_1.avi\n",
      "./OpenPoseDemo.exe --video C:/Users/HYPERION/Desktop/ohp_data/症例/sub-36/動画/spring3/4-2.avi --write_json C:/Users/HYPERION/Desktop/ohp_data/result2/sub-36/sub-36_spring3/2 --number_people_max 1  --num_gpu 1 --scale_number 2 --scale_gap 0.2 --write_video C:/Users/HYPERION/Desktop/ohp_data/video/spring3/sub36_spring3_2.avi\n",
      "./OpenPoseDemo.exe --video C:/Users/HYPERION/Desktop/ohp_data/症例/sub-36/動画/spring4/2-1.avi --write_json C:/Users/HYPERION/Desktop/ohp_data/result2/sub-36/sub-36_spring4/1 --number_people_max 1  --num_gpu 1 --scale_number 2 --scale_gap 0.2 --write_video C:/Users/HYPERION/Desktop/ohp_data/video/spring4/sub36_spring4_1.avi\n",
      "./OpenPoseDemo.exe --video C:/Users/HYPERION/Desktop/ohp_data/症例/sub-36/動画/spring4/2-2.avi --write_json C:/Users/HYPERION/Desktop/ohp_data/result2/sub-36/sub-36_spring4/2 --number_people_max 1  --num_gpu 1 --scale_number 2 --scale_gap 0.2 --write_video C:/Users/HYPERION/Desktop/ohp_data/video/spring4/sub36_spring4_2.avi\n",
      "./OpenPoseDemo.exe --video C:/Users/HYPERION/Desktop/ohp_data/症例/sub-37/動画/no-AFO/noAFO.avi --write_json C:/Users/HYPERION/Desktop/ohp_data/result2/sub-37/sub-37_no-AFO/1 --number_people_max 1  --num_gpu 1 --scale_number 2 --scale_gap 0.2 --write_video C:/Users/HYPERION/Desktop/ohp_data/video/no-AFO/sub37_no-AFO_1.avi\n",
      "./OpenPoseDemo.exe --video C:/Users/HYPERION/Desktop/ohp_data/症例/sub-37/動画/spring1/spring1.avi --write_json C:/Users/HYPERION/Desktop/ohp_data/result2/sub-37/sub-37_spring1/1 --number_people_max 1  --num_gpu 1 --scale_number 2 --scale_gap 0.2 --write_video C:/Users/HYPERION/Desktop/ohp_data/video/spring1/sub37_spring1_1.avi\n",
      "./OpenPoseDemo.exe --video C:/Users/HYPERION/Desktop/ohp_data/症例/sub-37/動画/spring2/spring2.avi --write_json C:/Users/HYPERION/Desktop/ohp_data/result2/sub-37/sub-37_spring2/1 --number_people_max 1  --num_gpu 1 --scale_number 2 --scale_gap 0.2 --write_video C:/Users/HYPERION/Desktop/ohp_data/video/spring2/sub37_spring2_1.avi\n",
      "./OpenPoseDemo.exe --video C:/Users/HYPERION/Desktop/ohp_data/症例/sub-37/動画/spring3/spring3.avi --write_json C:/Users/HYPERION/Desktop/ohp_data/result2/sub-37/sub-37_spring3/1 --number_people_max 1  --num_gpu 1 --scale_number 2 --scale_gap 0.2 --write_video C:/Users/HYPERION/Desktop/ohp_data/video/spring3/sub37_spring3_1.avi\n",
      "./OpenPoseDemo.exe --video C:/Users/HYPERION/Desktop/ohp_data/症例/sub-37/動画/spring4/spring4.avi --write_json C:/Users/HYPERION/Desktop/ohp_data/result2/sub-37/sub-37_spring4/1 --number_people_max 1  --num_gpu 1 --scale_number 2 --scale_gap 0.2 --write_video C:/Users/HYPERION/Desktop/ohp_data/video/spring4/sub37_spring4_1.avi\n"
     ]
    }
   ],
   "source": [
    "import subprocess\n",
    "import os\n",
    "import copy\n",
    "import glob\n",
    "\n",
    "os.chdir(\"C:/Users/HYPERION/Desktop/ohp_data/症例\")###病院からもらったデータのあるところにカレントディレクトリを変更\n",
    "list_sub=list(range(35,42)) #openposeかけたsubの人数まわす．rangeなので最後は+1\n",
    "list_sub=[36,37]###OpenPoseで処理したい被験者番号　連番の場合は下のコメントアウト外して使用\n",
    "# list_sub=list(range(38,42))\n",
    "sub=[]###被験者番号から被験者名を作成して入れる\n",
    "\n",
    "for i in list_sub:###被験者名を作成\n",
    "    sub.append(\"sub-\"+str(i))\n",
    "\n",
    "spring=[\"no-AFO\",'spring1','spring2','spring3','spring4']###処理対象にする制動力条件一覧\n",
    "# spring=['no-AFO']#※個別でやりなおす場合は条件をこちらで\n",
    "for sub_name in sub:\n",
    "    os.chdir(\"C:/Users/HYPERION/Desktop/ohp_data/症例/{}/動画\".format(sub_name))###病院からもらった動画のあるところにカレントディレクトリを変更\n",
    "    \n",
    "    N_subnum=sub_name.replace('-', '', 1) ###処理後の動画を保存する際に名前が見やすいように　被験者名から-を抜く\n",
    "    \n",
    "    for spring_condition in spring:\n",
    "        rocation=\"C:/Users/HYPERION/Desktop/ohp_data/症例/\"+sub_name+\"/動画/\"+spring_condition###処理したい被験者の制動力条件別の動画のあるところのパス\n",
    "        os.chdir(rocation)###処理したい被験者の動画のあるところにカレントディレクトリを変更\n",
    "        cycle=sorted(glob.glob(\"*avi\"))###今処理したい制動力条件の動画の名前をすべて検索\n",
    "        number=1###何サイクル目であるかを記録\n",
    "        for cycle_num in cycle:            \n",
    "            os.chdir(\"C:/openpose-1.6.0-binaries-win64-gpu-python-flir-3d_recommended/openpose/bin\")###OpenPoseのあるところにカレントディレクトリを変更\n",
    "            \n",
    "            \n",
    "            ######OpenPoseへの命令作成\n",
    "            program=\"./OpenPoseDemo.exe\"\n",
    "            pre_video_place=\" --video C:/Users/HYPERION/Desktop/ohp_data/症例/\"+sub_name+\"/動画/\"+spring_condition+\"/\"+cycle_num\n",
    "            after_video_place=\" --write_json C:/Users/HYPERION/Desktop/ohp_data/result2/\"+sub_name+\"/\"+sub_name+\"_\"+spring_condition+\"/\"+str(number)\n",
    "            other_order=' --number_people_max 1  --num_gpu 1 --scale_number 2 --scale_gap 0.2 --write_video C:/Users/HYPERION/Desktop/ohp_data/video/{}/'.format(spring_condition)+N_subnum+\"_\"+spring_condition+\"_\"+str(number)+\".avi\"\n",
    "            cmd =program+pre_video_place+after_video_place+other_order\n",
    "            ######Opencoseへの命令作成終了\n",
    "            print(cmd)\n",
    "#             cmd =program+\" -help\"###引数の詳細が見たい場合はコメントアウト\n",
    "            subprocess.call(cmd.split())###作成したコマンドをターミナルに渡す\n",
    "            number=number+1"
   ]
  },
  {
   "cell_type": "code",
   "execution_count": 7,
   "metadata": {},
   "outputs": [
    {
     "data": {
      "text/plain": [
       "[20, 21, 22, 23, 24, 25, 26, 27, 28, 29, 31, 33, 35, 37]"
      ]
     },
     "execution_count": 7,
     "metadata": {},
     "output_type": "execute_result"
    }
   ],
   "source": [
    "nan_sub=[]\n",
    "import glob\n",
    "for i in range(1,38):\n",
    "\n",
    "    if len(glob.glob(\"C:/Users/HYPERION/Desktop/ohp_data/video/no-AFO/sub{}*\".format(i)))<=1:\n",
    "        nan_sub.append(i)\n",
    "nan_sub"
   ]
  },
  {
   "cell_type": "code",
   "execution_count": 8,
   "metadata": {},
   "outputs": [
    {
     "name": "stdout",
     "output_type": "stream",
     "text": [
      "[6, 12, 17, 20, 21, 22, 24, 25, 26, 27, 28, 29, 31, 33, 37]\n"
     ]
    },
    {
     "data": {
      "text/plain": [
       "[1, 1, 1, 1, 1, 1, 1, 1, 1, 1, 1, 1, 1, 1, 1]"
      ]
     },
     "execution_count": 8,
     "metadata": {},
     "output_type": "execute_result"
    }
   ],
   "source": [
    "nan_sub=[]\n",
    "length=[]\n",
    "import glob\n",
    "for i in range(1,38):\n",
    "    if len(glob.glob(\"C:/Users/HYPERION/Desktop/ohp_data/video/spring1/sub{}*\".format(i)))<=1:\n",
    "        nan_sub.append(i)\n",
    "        length.append(len(glob.glob(\"C:/Users/HYPERION/Desktop/ohp_data/video/spring1/sub{}*\".format(i))))\n",
    "print(nan_sub)\n",
    "length"
   ]
  },
  {
   "cell_type": "code",
   "execution_count": 9,
   "metadata": {},
   "outputs": [
    {
     "name": "stdout",
     "output_type": "stream",
     "text": [
      "[6, 12, 17, 20, 21, 22, 24, 25, 26, 27, 28, 29, 31, 33, 35, 37]\n"
     ]
    },
    {
     "data": {
      "text/plain": [
       "[1, 1, 1, 1, 1, 1, 1, 1, 1, 1, 1, 1, 1, 1, 1, 1]"
      ]
     },
     "execution_count": 9,
     "metadata": {},
     "output_type": "execute_result"
    }
   ],
   "source": [
    "nan_sub=[]\n",
    "length=[]\n",
    "import glob\n",
    "for i in range(1,38):\n",
    "    if len(glob.glob(\"/home/brlab/Desktop/video/spring2/sub{}*\".format(i)))<=1:\n",
    "        nan_sub.append(i)\n",
    "        length.append(len(glob.glob(\"/home/brlab/Desktop/video/spring2/sub{}*\".format(i))))\n",
    "print(nan_sub)\n",
    "length"
   ]
  },
  {
   "cell_type": "code",
   "execution_count": 10,
   "metadata": {},
   "outputs": [
    {
     "name": "stdout",
     "output_type": "stream",
     "text": [
      "[6, 12, 14, 17, 20, 21, 22, 24, 25, 26, 27, 28, 29, 31, 33, 35, 37]\n"
     ]
    },
    {
     "data": {
      "text/plain": [
       "[1, 1, 1, 1, 1, 1, 1, 1, 1, 1, 1, 1, 1, 1, 1, 1, 1]"
      ]
     },
     "execution_count": 10,
     "metadata": {},
     "output_type": "execute_result"
    }
   ],
   "source": [
    "nan_sub=[]\n",
    "length=[]\n",
    "import glob\n",
    "for i in range(1,38):\n",
    "    if len(glob.glob(\"/home/brlab/Desktop/video/spring3/sub{}*\".format(i)))<=1:\n",
    "        nan_sub.append(i)\n",
    "        length.append(len(glob.glob(\"/home/brlab/Desktop/video/spring3/sub{}*\".format(i))))\n",
    "print(nan_sub)\n",
    "length"
   ]
  },
  {
   "cell_type": "code",
   "execution_count": 11,
   "metadata": {},
   "outputs": [
    {
     "name": "stdout",
     "output_type": "stream",
     "text": [
      "[6, 12, 17, 20, 21, 22, 24, 25, 26, 27, 28, 29, 31, 33, 35, 37]\n"
     ]
    },
    {
     "data": {
      "text/plain": [
       "[1, 1, 1, 1, 1, 1, 1, 1, 1, 1, 1, 1, 1, 1, 1, 1]"
      ]
     },
     "execution_count": 11,
     "metadata": {},
     "output_type": "execute_result"
    }
   ],
   "source": [
    "nan_sub=[]\n",
    "length=[]\n",
    "import glob\n",
    "for i in range(1,38):\n",
    "    if len(glob.glob(\"/home/brlab/Desktop/video/spring4/sub{}*\".format(i)))<=1:\n",
    "        nan_sub.append(i)\n",
    "        length.append(len(glob.glob(\"/home/brlab/Desktop/video/spring4/sub{}*\".format(i))))\n",
    "print(nan_sub)\n",
    "length"
   ]
  },
  {
   "cell_type": "code",
   "execution_count": null,
   "metadata": {},
   "outputs": [],
   "source": []
  }
 ],
 "metadata": {
  "kernelspec": {
   "display_name": "Python 3 (ipykernel)",
   "language": "python",
   "name": "python3"
  },
  "language_info": {
   "codemirror_mode": {
    "name": "ipython",
    "version": 3
   },
   "file_extension": ".py",
   "mimetype": "text/x-python",
   "name": "python",
   "nbconvert_exporter": "python",
   "pygments_lexer": "ipython3",
   "version": "3.9.16"
  }
 },
 "nbformat": 4,
 "nbformat_minor": 4
}
