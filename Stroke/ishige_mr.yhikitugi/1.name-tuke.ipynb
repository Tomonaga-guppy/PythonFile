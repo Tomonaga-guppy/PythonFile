{
 "cells": [
  {
   "cell_type": "code",
   "execution_count": 2,
   "metadata": {},
   "outputs": [
    {
     "name": "stdout",
     "output_type": "stream",
     "text": [
      "c:\\Users\\HYPERION\\Desktop\\装具選定プログラム\n"
     ]
    }
   ],
   "source": [
    "###新しい被験者の解析結果を追加するためのフォルダを作成する\n",
    "import os\n",
    "num=list(range(1,42))#※最初のsubから指定人数分．手入力で変更必要\n",
    "# num=[38,39,40,41]###※新しく追加する被験者番号．新しく追加はこちら\n",
    "os.makedirs(\"result2\",exist_ok=True) ###結果を保温するための大本のファイルを作成　exist_ok=Trueによってもう存在する場合は無視される\n",
    "print(os.getcwd())\n",
    "walklist=[\"_no-AFO\",\"_spring1\",\"_spring2\",\"_spring3\",\"_spring4\"]###制動力条件一覧\n",
    "os.chdir(\"result2\")\n",
    "for i in num:\n",
    "    dirn=\"sub-\"+str(i)###作成するフォルダ名(被験者番号)\n",
    "    os.makedirs(dirn,exist_ok=True)###フォルダ作成する\n",
    "    os.chdir(dirn)###作成したフォルダに移動\n",
    "    for j in walklist:\n",
    "        dirn2=str(dirn)+str(j)###作成するフォルダ名(被験者番号_制動力条件)\n",
    "        os.makedirs(dirn2,exist_ok=True)###フォルダ作成する\n",
    "        os.chdir(dirn2)###作成したフォルダに移動\n",
    "        for k in range(1,3):###各条件最大２試行なのでそれを保存するフォルダを作成\n",
    "            os.makedirs(str(k),exist_ok=True)\n",
    "        os.chdir(\"..\")   \n",
    "        \n",
    "    os.chdir(\"..\")\n",
    "os.chdir(\"..\")"
   ]
  },
  {
   "cell_type": "code",
   "execution_count": null,
   "metadata": {},
   "outputs": [],
   "source": []
  }
 ],
 "metadata": {
  "kernelspec": {
   "display_name": "Python 3 (ipykernel)",
   "language": "python",
   "name": "python3"
  },
  "language_info": {
   "codemirror_mode": {
    "name": "ipython",
    "version": 3
   },
   "file_extension": ".py",
   "mimetype": "text/x-python",
   "name": "python",
   "nbconvert_exporter": "python",
   "pygments_lexer": "ipython3",
   "version": "3.9.16"
  }
 },
 "nbformat": 4,
 "nbformat_minor": 4
}
